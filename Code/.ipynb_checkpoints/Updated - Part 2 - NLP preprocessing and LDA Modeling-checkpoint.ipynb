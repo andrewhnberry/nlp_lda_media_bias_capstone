{
 "cells": [
  {
   "cell_type": "markdown",
   "metadata": {},
   "source": [
    "## Part 2 - PreProcessing the Text Data\n",
    "\n",
    "In this notebook, we will begin to do some NLP preprocessing as well as inputing our text data into a TFIDF vectorizer. We need do this before we can start to do some modeling, specifcally LDA Topic Modeling."
   ]
  },
  {
   "cell_type": "code",
   "execution_count": 1,
   "metadata": {},
   "outputs": [],
   "source": [
    "#Importing the holy trinity\n",
    "import numpy as np\n",
    "import pandas as pd\n",
    "import matplotlib.pyplot as plt\n",
    "\n",
    "#Importing NLP plugins\n",
    "from nltk.corpus import stopwords \n",
    "ENGLISH_STOP_WORDS = stopwords.words('english')\n",
    "from nltk.stem import PorterStemmer\n",
    "\n",
    "#Import our TfidFVectorizer plugin\n",
    "from sklearn.feature_extraction.text import TfidfVectorizer\n",
    "\n",
    "# We don't need to see the warnings :) \n",
    "import warnings\n",
    "warnings.filterwarnings('ignore')"
   ]
  },
  {
   "cell_type": "code",
   "execution_count": 2,
   "metadata": {},
   "outputs": [
    {
     "data": {
      "text/html": [
       "<div>\n",
       "<style scoped>\n",
       "    .dataframe tbody tr th:only-of-type {\n",
       "        vertical-align: middle;\n",
       "    }\n",
       "\n",
       "    .dataframe tbody tr th {\n",
       "        vertical-align: top;\n",
       "    }\n",
       "\n",
       "    .dataframe thead th {\n",
       "        text-align: right;\n",
       "    }\n",
       "</style>\n",
       "<table border=\"1\" class=\"dataframe\">\n",
       "  <thead>\n",
       "    <tr style=\"text-align: right;\">\n",
       "      <th></th>\n",
       "      <th>Title</th>\n",
       "      <th>Text</th>\n",
       "      <th>Source</th>\n",
       "    </tr>\n",
       "  </thead>\n",
       "  <tbody>\n",
       "    <tr>\n",
       "      <th>0</th>\n",
       "      <td>Latest Headlines on CNN Business</td>\n",
       "      <td>Disney+ is almost near its subscribers goal fo...</td>\n",
       "      <td>CNN</td>\n",
       "    </tr>\n",
       "    <tr>\n",
       "      <th>1</th>\n",
       "      <td>Travel News - CNN</td>\n",
       "      <td>Here are all the animal livestreams and videos...</td>\n",
       "      <td>CNN</td>\n",
       "    </tr>\n",
       "    <tr>\n",
       "      <th>2</th>\n",
       "      <td>Rugby World Cup 2019</td>\n",
       "      <td>By Daniel Gallan, for CNN\\r\\n\\r\\nNew Zealand e...</td>\n",
       "      <td>CNN</td>\n",
       "    </tr>\n",
       "  </tbody>\n",
       "</table>\n",
       "</div>"
      ],
      "text/plain": [
       "                              Title  \\\n",
       "0  Latest Headlines on CNN Business   \n",
       "1                 Travel News - CNN   \n",
       "2              Rugby World Cup 2019   \n",
       "\n",
       "                                                Text Source  \n",
       "0  Disney+ is almost near its subscribers goal fo...    CNN  \n",
       "1  Here are all the animal livestreams and videos...    CNN  \n",
       "2  By Daniel Gallan, for CNN\\r\\n\\r\\nNew Zealand e...    CNN  "
      ]
     },
     "execution_count": 2,
     "metadata": {},
     "output_type": "execute_result"
    }
   ],
   "source": [
    "#Importing our cleaned data for later use:\n",
    "df = pd.read_csv('data/cleaned_df.csv')\n",
    "df = df.drop('Unnamed: 0', axis = 1)\n",
    "df.head(3)"
   ]
  },
  {
   "cell_type": "markdown",
   "metadata": {},
   "source": [
    "#### Let us create some helper function to ease our workflow"
   ]
  },
  {
   "cell_type": "code",
   "execution_count": 3,
   "metadata": {},
   "outputs": [],
   "source": [
    "\n",
    "\n",
    "\n",
    "def tokenizer(text):\n",
    "    '''\n",
    "    Simple tokenizer:\n",
    "    1.) Removes stopwords\n",
    "    2.) Use PorterStemmer\n",
    "    '''\n",
    "    \n",
    "    #Split each word up in text, which is a long string of words. \n",
    "    #These words are called tokens\n",
    "    \n",
    "    list_of_tokens = text.split(' ')\n",
    "    \n",
    "    #Let us use a stemmer\n",
    "    stemmer = PorterStemmer()\n",
    "    \n",
    "    #list of cleaned_tokens\n",
    "    cleaned_tokens = []\n",
    "\n",
    "    #Remove Stopwords\n",
    "    for token in list_of_tokens:\n",
    "        if (not token in ENGLISH_STOP_WORDS):\n",
    "            # Stemm words\n",
    "            token_stemmed = stemmer.stem(token)\n",
    "                \n",
    "            cleaned_tokens.append(token_stemmed)\n",
    "            \n",
    "    return cleaned_tokens"
   ]
  },
  {
   "cell_type": "markdown",
   "metadata": {},
   "source": [
    "Now that we created our tokenizer function which will be fed into our TFIDF vectorizer down below, ideally I want to optimize the min_df value of our tokenizer. The **min_df** used for removing terms that appear too infrequently.\n",
    "\n",
    "For example:\n",
    "* min_df = 0.01 means \"ignore terms that appear in less than 1% of the documents\".\n",
    "* min_df = 5 means \"ignore terms that appear in less than 5 documents\"."
   ]
  },
  {
   "cell_type": "code",
   "execution_count": 16,
   "metadata": {},
   "outputs": [
    {
     "name": "stdout",
     "output_type": "stream",
     "text": [
      "instaiate\n",
      "fit\n",
      "transform\n",
      "Vectorization for min_df = 100 excuted.\n",
      "instaiate\n",
      "fit\n",
      "transform\n",
      "Vectorization for min_df = 300 excuted.\n",
      "instaiate\n",
      "fit\n",
      "transform\n",
      "Vectorization for min_df = 500 excuted.\n",
      "instaiate\n",
      "fit\n",
      "transform\n",
      "Vectorization for min_df = 700 excuted.\n",
      "instaiate\n",
      "fit\n",
      "transform\n",
      "Vectorization for min_df = 900 excuted.\n",
      "instaiate\n",
      "fit\n",
      "transform\n",
      "Vectorization for min_df = 1100 excuted.\n",
      "instaiate\n",
      "fit\n",
      "transform\n",
      "Vectorization for min_df = 1300 excuted.\n",
      "instaiate\n",
      "fit\n",
      "transform\n",
      "Vectorization for min_df = 1500 excuted.\n",
      "instaiate\n",
      "fit\n",
      "transform\n",
      "Vectorization for min_df = 1700 excuted.\n",
      "CPU times: user 14min 16s, sys: 10.9 s, total: 14min 27s\n",
      "Wall time: 14min 39s\n"
     ]
    }
   ],
   "source": [
    "%%time\n",
    "#Initate min_df step range for our tfidf vectorizer below\n",
    "min_df_range = range(100, 1800, 200)\n",
    "num_tokens_list = []\n",
    "\n",
    "for i in min_df_range:\n",
    "    #Intatiate the model\n",
    "    tf = TfidfVectorizer(tokenizer = tokenizer, min_df = i, ngram_range =(1,3))\n",
    "    print('instaiate')\n",
    "    #Fit on the corpus\n",
    "    tf.fit(df['Text'])\n",
    "    print('fit')\n",
    "    #Transform the model\n",
    "    num_tokens = tf.transform(df['Text'])\n",
    "    print('transform')\n",
    "    #Extract and count:\n",
    "    count_tokens = pd.DataFrame(columns = tf.get_feature_names(), data = num_tokens.toarray())\n",
    "    #min_df_tokens = tf()\n",
    "    print(f'Vectorization for min_df = {i} excuted.')\n",
    "    \n",
    "    num_tokens_list.append(count_tokens.shape[1])"
   ]
  },
  {
   "cell_type": "code",
   "execution_count": 21,
   "metadata": {},
   "outputs": [
    {
     "data": {
      "image/png": "[encoded data removed]",
      "text/plain": [
       "<Figure size 1008x432 with 1 Axes>"
      ]
     },
     "metadata": {
      "needs_background": "light"
     },
     "output_type": "display_data"
    }
   ],
   "source": [
    "#Lets PLot this\n",
    "plt.figure(figsize = (14, 6))\n",
    "plt.plot(min_df_range, num_tokens_list)\n",
    "plt.title('Number of Tokens vs. min_df Value')\n",
    "plt.xlabel('min_df Value')\n",
    "plt.ylabel('Number of Tokens')\n",
    "plt.show()"
   ]
  },
  {
   "cell_type": "markdown",
   "metadata": {},
   "source": [
    "It seems to level off between 300 to 600 with the min_df value. So I guess Ill try to keep atleast 1000 tokens, so I will pick a min_df at around 250.\n",
    "\n",
    "#### Now let's press on with our selected TFIDF model. "
   ]
  },
  {
   "cell_type": "code",
   "execution_count": 23,
   "metadata": {},
   "outputs": [],
   "source": [
    "#Instatiate TFIDF model\n",
    "tf_final = TfidfVectorizer(tokenizer = tokenizer, min_df = 250, ngram_range = (1,3))\n",
    "#Fit the data\n",
    "tf_final.fit(df['Text'])\n",
    "#Transform and Extract\n",
    "tokens_tfidf = pd.DataFrame(columns = tf.get_feature_names(),data = tf.transform(df['Text']).toarray())\n"
   ]
  },
  {
   "cell_type": "code",
   "execution_count": null,
   "metadata": {},
   "outputs": [],
   "source": []
  }
 ],
 "metadata": {
  "kernelspec": {
   "display_name": "Python 3",
   "language": "python",
   "name": "python3"
  },
  "language_info": {
   "codemirror_mode": {
    "name": "ipython",
    "version": 3
   },
   "file_extension": ".py",
   "mimetype": "text/x-python",
   "name": "python",
   "nbconvert_exporter": "python",
   "pygments_lexer": "ipython3",
   "version": "3.7.7"
  }
 },
 "nbformat": 4,
 "nbformat_minor": 4
}
