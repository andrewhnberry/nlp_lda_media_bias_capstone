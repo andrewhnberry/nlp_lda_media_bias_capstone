{
 "cells": [
  {
   "cell_type": "markdown",
   "metadata": {},
   "source": [
    "## Part 2 - PreProcessing & LDA Modeling w/ Gensim\n",
    "\n",
    "In this notebook, we will begin to do some NLP preprocessing as well as inputing our text data into a vectorizer. We need to do this before we can start to do some modeling, specifically LDA Topic Modeling."
   ]
  },
  {
   "cell_type": "code",
   "execution_count": 5,
   "metadata": {},
   "outputs": [],
   "source": [
    "#Importing the holy trinity\n",
    "import numpy as np\n",
    "import pandas as pd\n",
    "import matplotlib.pyplot as plt\n",
    "\n",
    "#Importing NLP plugins\n",
    "#Spacy Imports\n",
    "import spacy\n",
    "from spacy.lang.en import English\n",
    "nlp_spacy = English()\n",
    "#NLTK Imports\n",
    "from nltk.corpus import stopwords \n",
    "from nltk.stem import PorterStemmer\n",
    "\n",
    "# We don't need to see the warnings :) \n",
    "import warnings\n",
    "warnings.filterwarnings('ignore')"
   ]
  },
  {
   "cell_type": "code",
   "execution_count": 2,
   "metadata": {},
   "outputs": [
    {
     "data": {
      "text/html": [
       "<div>\n",
       "<style scoped>\n",
       "    .dataframe tbody tr th:only-of-type {\n",
       "        vertical-align: middle;\n",
       "    }\n",
       "\n",
       "    .dataframe tbody tr th {\n",
       "        vertical-align: top;\n",
       "    }\n",
       "\n",
       "    .dataframe thead th {\n",
       "        text-align: right;\n",
       "    }\n",
       "</style>\n",
       "<table border=\"1\" class=\"dataframe\">\n",
       "  <thead>\n",
       "    <tr style=\"text-align: right;\">\n",
       "      <th></th>\n",
       "      <th>Title</th>\n",
       "      <th>Text</th>\n",
       "      <th>Source</th>\n",
       "    </tr>\n",
       "  </thead>\n",
       "  <tbody>\n",
       "    <tr>\n",
       "      <th>0</th>\n",
       "      <td>Latest Headlines on CNN Business</td>\n",
       "      <td>Disney+ is almost near its subscribers goal fo...</td>\n",
       "      <td>CNN</td>\n",
       "    </tr>\n",
       "    <tr>\n",
       "      <th>1</th>\n",
       "      <td>Travel News - CNN</td>\n",
       "      <td>Here are all the animal livestreams and videos...</td>\n",
       "      <td>CNN</td>\n",
       "    </tr>\n",
       "    <tr>\n",
       "      <th>2</th>\n",
       "      <td>Rugby World Cup 2019</td>\n",
       "      <td>By Daniel Gallan, for CNN\\r\\n\\r\\nNew Zealand e...</td>\n",
       "      <td>CNN</td>\n",
       "    </tr>\n",
       "  </tbody>\n",
       "</table>\n",
       "</div>"
      ],
      "text/plain": [
       "                              Title  \\\n",
       "0  Latest Headlines on CNN Business   \n",
       "1                 Travel News - CNN   \n",
       "2              Rugby World Cup 2019   \n",
       "\n",
       "                                                Text Source  \n",
       "0  Disney+ is almost near its subscribers goal fo...    CNN  \n",
       "1  Here are all the animal livestreams and videos...    CNN  \n",
       "2  By Daniel Gallan, for CNN\\r\\n\\r\\nNew Zealand e...    CNN  "
      ]
     },
     "execution_count": 2,
     "metadata": {},
     "output_type": "execute_result"
    }
   ],
   "source": [
    "#Importing our cleaned data for later use:\n",
    "df = pd.read_csv('data/cleaned_df.csv')\n",
    "df = df.drop('Unnamed: 0', axis = 1)\n",
    "df.head(3)"
   ]
  },
  {
   "cell_type": "markdown",
   "metadata": {},
   "source": [
    "### We will first write some functions that will take our data to be LDA anlaysis ready"
   ]
  },
  {
   "cell_type": "code",
   "execution_count": null,
   "metadata": {},
   "outputs": [],
   "source": [
    "stop_words = stopwords.words('english')\n",
    "#Adds cnn to the stop_words list above\n",
    "stop_words.extend([\"cnn\",\"n't\"])\n",
    "\n",
    "#Let's create a tokenizer function\n",
    "def tokenizer_spacy(text):\n",
    "    \n",
    "    token_list = []\n",
    "    tokens = nlp_spacy(text)\n",
    "    \n",
    "    for each_tokenn in tokens:\n",
    "        \n",
    "        #Check if its an empty string\n",
    "        if each_token.orth_.isspace():\n",
    "            continue\n",
    "            \n",
    "        #Check if there is anything in the text that start with @ sign, \n",
    "        #such as a twitter handle    \n",
    "        elif each_token.orth_.startswith('@'):\n",
    "            continue\n",
    "            \n",
    "        #Check if its a url and skips it    \n",
    "        elif each_token.like_url:\n",
    "            continue\n",
    "            \n",
    "        #check if the token is a digit, we skip it. \n",
    "        #Just for simplicity stake of this project\n",
    "        elif each_token.is_digit:  \n",
    "            continue\n",
    "            \n",
    "        else:\n",
    "            #makes each token lower case\n",
    "            token_list.append(each_token.lower_)\n",
    "            \n",
    "    return token_list\n",
    "\n",
    "\n",
    "        \n",
    "            "
   ]
  },
  {
   "cell_type": "code",
   "execution_count": null,
   "metadata": {},
   "outputs": [],
   "source": []
  }
 ],
 "metadata": {
  "kernelspec": {
   "display_name": "Python 3",
   "language": "python",
   "name": "python3"
  },
  "language_info": {
   "codemirror_mode": {
    "name": "ipython",
    "version": 3
   },
   "file_extension": ".py",
   "mimetype": "text/x-python",
   "name": "python",
   "nbconvert_exporter": "python",
   "pygments_lexer": "ipython3",
   "version": "3.7.7"
  }
 },
 "nbformat": 4,
 "nbformat_minor": 4
}
