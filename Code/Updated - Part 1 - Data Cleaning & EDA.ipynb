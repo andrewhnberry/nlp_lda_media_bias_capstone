{
 "cells": [
  {
   "cell_type": "markdown",
   "metadata": {},
   "source": [
    "## Part 2: Going Through My Scraped Data & Cleaning Them\n",
    "\n",
    "This part is very straightforward, I will achieve the following things. \n",
    "\n",
    "* Provide a Data Dictionary\n",
    "* Cleaning The Data\n",
    "* Do a ittle EDA"
   ]
  },
  {
   "cell_type": "code",
   "execution_count": 1,
   "metadata": {},
   "outputs": [],
   "source": [
    "# Import Required Packages\n",
    "import pandas as pd\n",
    "import matplotlib.pyplot as plt"
   ]
  },
  {
   "cell_type": "code",
   "execution_count": 2,
   "metadata": {},
   "outputs": [
    {
     "data": {
      "text/plain": [
       "(4042, 4)"
      ]
     },
     "execution_count": 2,
     "metadata": {},
     "output_type": "execute_result"
    }
   ],
   "source": [
    "df = pd.read_csv('data/scraped_articles_v2.csv')\n",
    "\n",
    "df.shape"
   ]
  },
  {
   "cell_type": "markdown",
   "metadata": {},
   "source": [
    "Seems like there is 4042 articles scaped, and 4 columns. Possibly a redudant column, because I only wanted 3 specific features."
   ]
  },
  {
   "cell_type": "code",
   "execution_count": 3,
   "metadata": {},
   "outputs": [
    {
     "data": {
      "text/html": [
       "<div>\n",
       "<style scoped>\n",
       "    .dataframe tbody tr th:only-of-type {\n",
       "        vertical-align: middle;\n",
       "    }\n",
       "\n",
       "    .dataframe tbody tr th {\n",
       "        vertical-align: top;\n",
       "    }\n",
       "\n",
       "    .dataframe thead th {\n",
       "        text-align: right;\n",
       "    }\n",
       "</style>\n",
       "<table border=\"1\" class=\"dataframe\">\n",
       "  <thead>\n",
       "    <tr style=\"text-align: right;\">\n",
       "      <th></th>\n",
       "      <th>Unnamed: 0</th>\n",
       "      <th>Title</th>\n",
       "      <th>Text</th>\n",
       "      <th>Source</th>\n",
       "    </tr>\n",
       "  </thead>\n",
       "  <tbody>\n",
       "    <tr>\n",
       "      <th>0</th>\n",
       "      <td>0</td>\n",
       "      <td>Latest Headlines on CNN Business</td>\n",
       "      <td>Disney+ is almost near its subscribers goal fo...</td>\n",
       "      <td>https://edition.cnn.com/africa</td>\n",
       "    </tr>\n",
       "    <tr>\n",
       "      <th>1</th>\n",
       "      <td>1</td>\n",
       "      <td>Travel News - CNN</td>\n",
       "      <td>Here are all the animal livestreams and videos...</td>\n",
       "      <td>https://edition.cnn.com/africa</td>\n",
       "    </tr>\n",
       "    <tr>\n",
       "      <th>2</th>\n",
       "      <td>2</td>\n",
       "      <td>Rugby World Cup 2019</td>\n",
       "      <td>By Daniel Gallan, for CNN\\r\\n\\r\\nNew Zealand e...</td>\n",
       "      <td>https://edition.cnn.com/africa</td>\n",
       "    </tr>\n",
       "  </tbody>\n",
       "</table>\n",
       "</div>"
      ],
      "text/plain": [
       "   Unnamed: 0                             Title  \\\n",
       "0           0  Latest Headlines on CNN Business   \n",
       "1           1                 Travel News - CNN   \n",
       "2           2              Rugby World Cup 2019   \n",
       "\n",
       "                                                Text  \\\n",
       "0  Disney+ is almost near its subscribers goal fo...   \n",
       "1  Here are all the animal livestreams and videos...   \n",
       "2  By Daniel Gallan, for CNN\\r\\n\\r\\nNew Zealand e...   \n",
       "\n",
       "                           Source  \n",
       "0  https://edition.cnn.com/africa  \n",
       "1  https://edition.cnn.com/africa  \n",
       "2  https://edition.cnn.com/africa  "
      ]
     },
     "execution_count": 3,
     "metadata": {},
     "output_type": "execute_result"
    }
   ],
   "source": [
    "df.head(3)"
   ]
  },
  {
   "cell_type": "markdown",
   "metadata": {},
   "source": [
    "#### Going to be doing some quick cleaning:\n",
    "1. Drop the first column\n",
    "2. Drop Duplicates"
   ]
  },
  {
   "cell_type": "code",
   "execution_count": 4,
   "metadata": {},
   "outputs": [],
   "source": [
    "df = df.drop('Unnamed: 0', axis = 1)"
   ]
  },
  {
   "cell_type": "code",
   "execution_count": 5,
   "metadata": {},
   "outputs": [
    {
     "data": {
      "text/html": [
       "<div>\n",
       "<style scoped>\n",
       "    .dataframe tbody tr th:only-of-type {\n",
       "        vertical-align: middle;\n",
       "    }\n",
       "\n",
       "    .dataframe tbody tr th {\n",
       "        vertical-align: top;\n",
       "    }\n",
       "\n",
       "    .dataframe thead th {\n",
       "        text-align: right;\n",
       "    }\n",
       "</style>\n",
       "<table border=\"1\" class=\"dataframe\">\n",
       "  <thead>\n",
       "    <tr style=\"text-align: right;\">\n",
       "      <th></th>\n",
       "      <th>Title</th>\n",
       "      <th>Text</th>\n",
       "      <th>Source</th>\n",
       "    </tr>\n",
       "  </thead>\n",
       "  <tbody>\n",
       "    <tr>\n",
       "      <th>0</th>\n",
       "      <td>Latest Headlines on CNN Business</td>\n",
       "      <td>Disney+ is almost near its subscribers goal fo...</td>\n",
       "      <td>https://edition.cnn.com/africa</td>\n",
       "    </tr>\n",
       "    <tr>\n",
       "      <th>1</th>\n",
       "      <td>Travel News - CNN</td>\n",
       "      <td>Here are all the animal livestreams and videos...</td>\n",
       "      <td>https://edition.cnn.com/africa</td>\n",
       "    </tr>\n",
       "  </tbody>\n",
       "</table>\n",
       "</div>"
      ],
      "text/plain": [
       "                              Title  \\\n",
       "0  Latest Headlines on CNN Business   \n",
       "1                 Travel News - CNN   \n",
       "\n",
       "                                                Text  \\\n",
       "0  Disney+ is almost near its subscribers goal fo...   \n",
       "1  Here are all the animal livestreams and videos...   \n",
       "\n",
       "                           Source  \n",
       "0  https://edition.cnn.com/africa  \n",
       "1  https://edition.cnn.com/africa  "
      ]
     },
     "execution_count": 5,
     "metadata": {},
     "output_type": "execute_result"
    }
   ],
   "source": [
    "df.head(2)"
   ]
  },
  {
   "cell_type": "code",
   "execution_count": 6,
   "metadata": {},
   "outputs": [],
   "source": [
    "#Droping duplicates, Because the webscraper can be buggy and duplicates twice\n",
    "df = df.drop_duplicates(subset = 'Title', keep = 'first')"
   ]
  },
  {
   "cell_type": "code",
   "execution_count": 7,
   "metadata": {},
   "outputs": [],
   "source": [
    "# Drop Duplicates on Text, because the webscraper could be buggy oce again\n",
    "df = df.drop_duplicates(subset = 'Text', keep = 'first')"
   ]
  },
  {
   "cell_type": "code",
   "execution_count": 8,
   "metadata": {},
   "outputs": [
    {
     "data": {
      "text/plain": [
       "(3256, 3)"
      ]
     },
     "execution_count": 8,
     "metadata": {},
     "output_type": "execute_result"
    }
   ],
   "source": [
    "#Seems like I have 3256 Unique Articles scraped, this will be my corpus. \n",
    "df.shape"
   ]
  },
  {
   "cell_type": "code",
   "execution_count": 19,
   "metadata": {},
   "outputs": [
    {
     "data": {
      "text/plain": [
       "True"
      ]
     },
     "execution_count": 19,
     "metadata": {},
     "output_type": "execute_result"
    }
   ],
   "source": [
    "df.isnull().values.any()"
   ]
  },
  {
   "cell_type": "code",
   "execution_count": 21,
   "metadata": {},
   "outputs": [
    {
     "data": {
      "text/plain": [
       "Title     0\n",
       "Text      1\n",
       "Source    0\n",
       "dtype: int64"
      ]
     },
     "execution_count": 21,
     "metadata": {},
     "output_type": "execute_result"
    }
   ],
   "source": [
    "df.isnull().sum()"
   ]
  },
  {
   "cell_type": "code",
   "execution_count": 24,
   "metadata": {},
   "outputs": [],
   "source": [
    "df = df.dropna()"
   ]
  },
  {
   "cell_type": "code",
   "execution_count": 25,
   "metadata": {},
   "outputs": [
    {
     "data": {
      "text/plain": [
       "Title     0\n",
       "Text      0\n",
       "Source    0\n",
       "dtype: int64"
      ]
     },
     "execution_count": 25,
     "metadata": {},
     "output_type": "execute_result"
    }
   ],
   "source": [
    "df.isnull().sum()"
   ]
  },
  {
   "cell_type": "markdown",
   "metadata": {},
   "source": [
    "## Data Dictionary\n",
    "\n",
    "**Title**: I wanted to keep the title of the news article, there could be some importance to this.\n",
    "\n",
    "**Text**: This was a very important feature, because I needed this to perform future LDA Topic Modeling Analysis, K-Means, and possible DBSCAN to identify certain topics. In addition, before I enter all the modeling I will do some NLP pre-processing.\n",
    "\n",
    "**Source** Very important, because I want to anlayze my results by the different source I was able to acquire.\n",
    "\n",
    "#### I will now do some quick EDA anlaysis."
   ]
  },
  {
   "cell_type": "code",
   "execution_count": 26,
   "metadata": {},
   "outputs": [
    {
     "data": {
      "text/plain": [
       "Source\n",
       "http://arabic.cnn.com                                  26\n",
       "http://cnnespanol.cnn.com                             116\n",
       "http://live.washingtonpost.com                          9\n",
       "http://www.bbc.co.uk                                   18\n",
       "http://www.bbc.com                                     26\n",
       "http://www.cbc.ca                                      11\n",
       "https://edition.cnn.com/africa                         32\n",
       "https://edition.cnn.com/americas                       14\n",
       "https://edition.cnn.com/asia                           31\n",
       "https://edition.cnn.com/australia                      29\n",
       "https://edition.cnn.com/business                       40\n",
       "https://edition.cnn.com/china                           9\n",
       "https://edition.cnn.com/entertainment                  31\n",
       "https://edition.cnn.com/europe                         22\n",
       "https://edition.cnn.com/health                         45\n",
       "https://edition.cnn.com/india                          19\n",
       "https://edition.cnn.com/middle-east                    13\n",
       "https://edition.cnn.com/more                           24\n",
       "https://edition.cnn.com/sport                          64\n",
       "https://edition.cnn.com/style                          49\n",
       "https://edition.cnn.com/transcripts                     1\n",
       "https://edition.cnn.com/travel                         12\n",
       "https://edition.cnn.com/uk                             15\n",
       "https://edition.cnn.com/videos                         55\n",
       "https://edition.cnn.com/vr                              7\n",
       "https://edition.cnn.com/world                          74\n",
       "https://globalnews.ca                                  72\n",
       "https://globalnews.ca/contests                          5\n",
       "https://globalnews.ca/latest                            1\n",
       "https://globalnews.ca/national                          1\n",
       "https://globalnews.ca/trending-beta                     4\n",
       "https://globalnews.ca/videos                           28\n",
       "https://money.cnn.com                                   3\n",
       "https://sec.theglobeandmail.com                         8\n",
       "https://secure.politico.com                            90\n",
       "https://slate.com                                      27\n",
       "https://slate.com/business                             26\n",
       "https://slate.com/commenting                            7\n",
       "https://slate.com/culture                              18\n",
       "https://slate.com/live                                  1\n",
       "https://slate.com/pitch                                 1\n",
       "https://slate.com/technology                           12\n",
       "https://techcrunch.com/                                19\n",
       "https://thehill.com/                                   41\n",
       "https://thehill.com/classifieds                         5\n",
       "https://thehill.com/galleries                           9\n",
       "https://thehill.com/hill-tube                          21\n",
       "https://thehill.com/hilltv                             12\n",
       "https://thehill.com/latino                             18\n",
       "https://thehill.com/opinion                            28\n",
       "https://thehill.com/podcasts                           13\n",
       "https://thehill.com/policy                             17\n",
       "https://thehill.com/regulation                         18\n",
       "https://thehill.com/video                              11\n",
       "https://www.bbc.com                                    26\n",
       "https://www.bbc.com/news                               80\n",
       "https://www.breitbart.com                              95\n",
       "https://www.breitbart.com/africa                       32\n",
       "https://www.breitbart.com/asia                         13\n",
       "https://www.breitbart.com/border                       23\n",
       "https://www.breitbart.com/economy                      28\n",
       "https://www.breitbart.com/entertainment                18\n",
       "https://www.breitbart.com/europe                       25\n",
       "https://www.breitbart.com/latin-america                28\n",
       "https://www.breitbart.com/middle-east                  23\n",
       "https://www.breitbart.com/news                         32\n",
       "https://www.breitbart.com/politics                      8\n",
       "https://www.breitbart.com/sports                       24\n",
       "https://www.breitbart.com/tech                         17\n",
       "https://www.breitbart.com/the-media                    25\n",
       "https://www.breitbart.com/world-news                   20\n",
       "https://www.cbc.ca                                     10\n",
       "https://www.cbc.ca/arts                                23\n",
       "https://www.cbc.ca/books                               23\n",
       "https://www.cbc.ca/comedy                              16\n",
       "https://www.cbc.ca/documentaries                       39\n",
       "https://www.cbc.ca/life                                21\n",
       "https://www.cbc.ca/music                               18\n",
       "https://www.cbc.ca/news                                21\n",
       "https://www.cbc.ca/radio                               20\n",
       "https://www.cbc.ca/sports                              17\n",
       "https://www.cbc.ca/television                           6\n",
       "https://www.channelnewsasia.com/news                   72\n",
       "https://www.channelnewsasia.com/news/international      2\n",
       "https://www.gamespot.com                                2\n",
       "https://www.gamespot.com/3ds                            1\n",
       "https://www.gamespot.com/deals                          3\n",
       "https://www.gamespot.com/entertainment                  6\n",
       "https://www.gamespot.com/feeds                          1\n",
       "https://www.gamespot.com/gamespot-50                    1\n",
       "https://www.gamespot.com/gametech                       3\n",
       "https://www.gamespot.com/news                           2\n",
       "https://www.gamespot.com/overwatch-2                    4\n",
       "https://www.gamespot.com/pc                            10\n",
       "https://www.gamespot.com/ps4                            4\n",
       "https://www.gamespot.com/star-citizen                   6\n",
       "https://www.gamespot.com/videos                         1\n",
       "https://www.gamespot.com/xbox-one                       3\n",
       "https://www.gamespot.com/xbox-series-x                  1\n",
       "https://www.politico.com/magazine                      11\n",
       "https://www.politico.eu                                78\n",
       "https://www.theglobeandmail.com                        24\n",
       "https://www.theglobeandmail.com/arts                   27\n",
       "https://www.theglobeandmail.com/business               50\n",
       "https://www.theglobeandmail.com/canada                 37\n",
       "https://www.theglobeandmail.com/drive                  36\n",
       "https://www.theglobeandmail.com/investing              21\n",
       "https://www.theglobeandmail.com/life                   38\n",
       "https://www.theglobeandmail.com/opinion                36\n",
       "https://www.theglobeandmail.com/partners               57\n",
       "https://www.theglobeandmail.com/politics               31\n",
       "https://www.theglobeandmail.com/real-estate            34\n",
       "https://www.theglobeandmail.com/sports                 29\n",
       "https://www.theglobeandmail.com/world                  34\n",
       "https://www.thestar.com                                56\n",
       "https://www.thestar.com/autos                          38\n",
       "https://www.thestar.com/business.html                  51\n",
       "https://www.thestar.com/entertainment                  52\n",
       "https://www.thestar.com/life                           49\n",
       "https://www.thestar.com/opinion.html                   37\n",
       "https://www.thestar.com/politics.html                  24\n",
       "https://www.thestar.com/sports.html                    63\n",
       "https://www.thestar.com/trust.html                     55\n",
       "https://www.washingtonpost.com                        104\n",
       "https://www.washingtonpost.com/regional                22\n",
       "dtype: int64"
      ]
     },
     "execution_count": 26,
     "metadata": {},
     "output_type": "execute_result"
    }
   ],
   "source": [
    "# To show full display of the output below\n",
    "pd.options.display.max_rows = 4000\n",
    "df.pivot_table(index=['Source'], aggfunc='size')"
   ]
  },
  {
   "cell_type": "markdown",
   "metadata": {},
   "source": [
    "There is a little bit moe cleaning to do, as you can see there seems to be many sources, however I only webscraped from a handful of websites, so let me clean up this column to have each element in source be its base url. "
   ]
  },
  {
   "cell_type": "code",
   "execution_count": 27,
   "metadata": {},
   "outputs": [],
   "source": [
    "# WIll Need to use some Regex\n",
    "# Map Functions, or list comprehensions to do this effieciently"
   ]
  },
  {
   "cell_type": "code",
   "execution_count": 28,
   "metadata": {},
   "outputs": [
    {
     "name": "stderr",
     "output_type": "stream",
     "text": [
      "/Users/andrewberry/opt/anaconda3/envs/nlp_scraper/lib/python3.7/site-packages/pandas/core/indexing.py:671: SettingWithCopyWarning: \n",
      "A value is trying to be set on a copy of a slice from a DataFrame\n",
      "\n",
      "See the caveats in the documentation: https://pandas.pydata.org/pandas-docs/stable/user_guide/indexing.html#returning-a-view-versus-a-copy\n",
      "  self._setitem_with_indexer(indexer, value)\n",
      "/Users/andrewberry/opt/anaconda3/envs/nlp_scraper/lib/python3.7/site-packages/ipykernel_launcher.py:2: SettingWithCopyWarning: \n",
      "A value is trying to be set on a copy of a slice from a DataFrame\n",
      "\n",
      "See the caveats in the documentation: https://pandas.pydata.org/pandas-docs/stable/user_guide/indexing.html#returning-a-view-versus-a-copy\n",
      "  \n",
      "/Users/andrewberry/opt/anaconda3/envs/nlp_scraper/lib/python3.7/site-packages/ipykernel_launcher.py:3: SettingWithCopyWarning: \n",
      "A value is trying to be set on a copy of a slice from a DataFrame\n",
      "\n",
      "See the caveats in the documentation: https://pandas.pydata.org/pandas-docs/stable/user_guide/indexing.html#returning-a-view-versus-a-copy\n",
      "  This is separate from the ipykernel package so we can avoid doing imports until\n",
      "/Users/andrewberry/opt/anaconda3/envs/nlp_scraper/lib/python3.7/site-packages/ipykernel_launcher.py:4: SettingWithCopyWarning: \n",
      "A value is trying to be set on a copy of a slice from a DataFrame\n",
      "\n",
      "See the caveats in the documentation: https://pandas.pydata.org/pandas-docs/stable/user_guide/indexing.html#returning-a-view-versus-a-copy\n",
      "  after removing the cwd from sys.path.\n",
      "/Users/andrewberry/opt/anaconda3/envs/nlp_scraper/lib/python3.7/site-packages/ipykernel_launcher.py:5: SettingWithCopyWarning: \n",
      "A value is trying to be set on a copy of a slice from a DataFrame\n",
      "\n",
      "See the caveats in the documentation: https://pandas.pydata.org/pandas-docs/stable/user_guide/indexing.html#returning-a-view-versus-a-copy\n",
      "  \"\"\"\n",
      "/Users/andrewberry/opt/anaconda3/envs/nlp_scraper/lib/python3.7/site-packages/ipykernel_launcher.py:6: SettingWithCopyWarning: \n",
      "A value is trying to be set on a copy of a slice from a DataFrame\n",
      "\n",
      "See the caveats in the documentation: https://pandas.pydata.org/pandas-docs/stable/user_guide/indexing.html#returning-a-view-versus-a-copy\n",
      "  \n",
      "/Users/andrewberry/opt/anaconda3/envs/nlp_scraper/lib/python3.7/site-packages/ipykernel_launcher.py:7: SettingWithCopyWarning: \n",
      "A value is trying to be set on a copy of a slice from a DataFrame\n",
      "\n",
      "See the caveats in the documentation: https://pandas.pydata.org/pandas-docs/stable/user_guide/indexing.html#returning-a-view-versus-a-copy\n",
      "  import sys\n",
      "/Users/andrewberry/opt/anaconda3/envs/nlp_scraper/lib/python3.7/site-packages/ipykernel_launcher.py:8: SettingWithCopyWarning: \n",
      "A value is trying to be set on a copy of a slice from a DataFrame\n",
      "\n",
      "See the caveats in the documentation: https://pandas.pydata.org/pandas-docs/stable/user_guide/indexing.html#returning-a-view-versus-a-copy\n",
      "  \n",
      "/Users/andrewberry/opt/anaconda3/envs/nlp_scraper/lib/python3.7/site-packages/ipykernel_launcher.py:9: SettingWithCopyWarning: \n",
      "A value is trying to be set on a copy of a slice from a DataFrame\n",
      "\n",
      "See the caveats in the documentation: https://pandas.pydata.org/pandas-docs/stable/user_guide/indexing.html#returning-a-view-versus-a-copy\n",
      "  if __name__ == '__main__':\n",
      "/Users/andrewberry/opt/anaconda3/envs/nlp_scraper/lib/python3.7/site-packages/ipykernel_launcher.py:10: SettingWithCopyWarning: \n",
      "A value is trying to be set on a copy of a slice from a DataFrame\n",
      "\n",
      "See the caveats in the documentation: https://pandas.pydata.org/pandas-docs/stable/user_guide/indexing.html#returning-a-view-versus-a-copy\n",
      "  # Remove the CWD from sys.path while we load stuff.\n",
      "/Users/andrewberry/opt/anaconda3/envs/nlp_scraper/lib/python3.7/site-packages/ipykernel_launcher.py:11: SettingWithCopyWarning: \n",
      "A value is trying to be set on a copy of a slice from a DataFrame\n",
      "\n",
      "See the caveats in the documentation: https://pandas.pydata.org/pandas-docs/stable/user_guide/indexing.html#returning-a-view-versus-a-copy\n",
      "  # This is added back by InteractiveShellApp.init_path()\n",
      "/Users/andrewberry/opt/anaconda3/envs/nlp_scraper/lib/python3.7/site-packages/ipykernel_launcher.py:12: SettingWithCopyWarning: \n",
      "A value is trying to be set on a copy of a slice from a DataFrame\n",
      "\n",
      "See the caveats in the documentation: https://pandas.pydata.org/pandas-docs/stable/user_guide/indexing.html#returning-a-view-versus-a-copy\n",
      "  if sys.path[0] == '':\n",
      "/Users/andrewberry/opt/anaconda3/envs/nlp_scraper/lib/python3.7/site-packages/ipykernel_launcher.py:13: SettingWithCopyWarning: \n",
      "A value is trying to be set on a copy of a slice from a DataFrame\n",
      "\n",
      "See the caveats in the documentation: https://pandas.pydata.org/pandas-docs/stable/user_guide/indexing.html#returning-a-view-versus-a-copy\n",
      "  del sys.path[0]\n",
      "/Users/andrewberry/opt/anaconda3/envs/nlp_scraper/lib/python3.7/site-packages/ipykernel_launcher.py:14: SettingWithCopyWarning: \n",
      "A value is trying to be set on a copy of a slice from a DataFrame\n",
      "\n",
      "See the caveats in the documentation: https://pandas.pydata.org/pandas-docs/stable/user_guide/indexing.html#returning-a-view-versus-a-copy\n",
      "  \n",
      "/Users/andrewberry/opt/anaconda3/envs/nlp_scraper/lib/python3.7/site-packages/ipykernel_launcher.py:15: SettingWithCopyWarning: \n",
      "A value is trying to be set on a copy of a slice from a DataFrame\n",
      "\n",
      "See the caveats in the documentation: https://pandas.pydata.org/pandas-docs/stable/user_guide/indexing.html#returning-a-view-versus-a-copy\n",
      "  from ipykernel import kernelapp as app\n"
     ]
    }
   ],
   "source": [
    "#Simple Cleanup, Possibly a better way\n",
    "df.loc[df['Source'].str.contains('cnn'), 'Source'] = 'CNN'\n",
    "df.loc[df['Source'].str.contains('politico'), 'Source'] = 'Politico'\n",
    "df.loc[df['Source'].str.contains('theglobeandmail'), 'Source'] = 'The Globe and Mail'\n",
    "df.loc[df['Source'].str.contains('thestar'), 'Source'] = 'The Toronto Star'\n",
    "df.loc[df['Source'].str.contains('washingtonpost'), 'Source'] = 'Washington Post'\n",
    "df.loc[df['Source'].str.contains('bbc'), 'Source'] = 'BBC'\n",
    "df.loc[df['Source'].str.contains('cbc'), 'Source'] = 'CBC'\n",
    "df.loc[df['Source'].str.contains('gamespot'), 'Source'] = 'GameSpot'\n",
    "df.loc[df['Source'].str.contains('slate'), 'Source'] = 'Slate'\n",
    "df.loc[df['Source'].str.contains('breitbart'), 'Source'] = 'Breitbart'\n",
    "df.loc[df['Source'].str.contains('thehill'), 'Source'] = 'The Hill'\n",
    "df.loc[df['Source'].str.contains('globalnews'), 'Source'] = 'Globe News'\n",
    "df.loc[df['Source'].str.contains('techcrunch'), 'Source'] = 'TechCrunch'\n",
    "df.loc[df['Source'].str.contains('channelnewsasia'), 'Source'] = 'CNA'"
   ]
  },
  {
   "cell_type": "code",
   "execution_count": 29,
   "metadata": {},
   "outputs": [
    {
     "data": {
      "text/plain": [
       "Source\n",
       "BBC                   150\n",
       "Breitbart             411\n",
       "CBC                   225\n",
       "CNA                    74\n",
       "CNN                   731\n",
       "GameSpot               48\n",
       "Globe News            111\n",
       "Politico              179\n",
       "Slate                  92\n",
       "TechCrunch             19\n",
       "The Globe and Mail    462\n",
       "The Hill              193\n",
       "The Toronto Star      425\n",
       "Washington Post       135\n",
       "dtype: int64"
      ]
     },
     "execution_count": 29,
     "metadata": {},
     "output_type": "execute_result"
    }
   ],
   "source": [
    "df.pivot_table(index=['Source'], aggfunc='size')"
   ]
  },
  {
   "cell_type": "code",
   "execution_count": 30,
   "metadata": {},
   "outputs": [
    {
     "data": {
      "image/png": "[encoded data removed]",
      "text/plain": [
       "<Figure size 1008x504 with 1 Axes>"
      ]
     },
     "metadata": {
      "needs_background": "light"
     },
     "output_type": "display_data"
    }
   ],
   "source": [
    "plt.figure(figsize=(14, 7))\n",
    "ax = df['Source'].value_counts().plot(kind='bar',\n",
    "                                    title=\"Number of Articles per Source\")\n",
    "ax.set_xlabel(\"Source\")\n",
    "ax.set_ylabel(\"Frequency\")\n",
    "plt.show()"
   ]
  },
  {
   "cell_type": "markdown",
   "metadata": {},
   "source": [
    "Now that is cleaned up! We can identify that we were able to scrape a lot of articles from CNN, The Globe and Mail, The Toronto Star, and Breitbart. Some websites, it seems as if my scraper script didn't perform too well. That is okay, At least I got a dataset! "
   ]
  },
  {
   "cell_type": "code",
   "execution_count": 31,
   "metadata": {},
   "outputs": [],
   "source": [
    "df_final = df.copy()"
   ]
  },
  {
   "cell_type": "code",
   "execution_count": 32,
   "metadata": {},
   "outputs": [],
   "source": [
    "df_final.to_csv('data/cleaned_df.csv')"
   ]
  },
  {
   "cell_type": "code",
   "execution_count": null,
   "metadata": {},
   "outputs": [],
   "source": []
  }
 ],
 "metadata": {
  "kernelspec": {
   "display_name": "Python 3",
   "language": "python",
   "name": "python3"
  },
  "language_info": {
   "codemirror_mode": {
    "name": "ipython",
    "version": 3
   },
   "file_extension": ".py",
   "mimetype": "text/x-python",
   "name": "python",
   "nbconvert_exporter": "python",
   "pygments_lexer": "ipython3",
   "version": "3.7.7"
  }
 },
 "nbformat": 4,
 "nbformat_minor": 4
}
