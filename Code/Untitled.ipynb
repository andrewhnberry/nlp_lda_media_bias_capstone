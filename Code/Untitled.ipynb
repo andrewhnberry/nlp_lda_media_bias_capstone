{
 "cells": [
  {
   "cell_type": "markdown",
   "metadata": {},
   "source": [
    "## Part 2 - PreProcessing the Text Data\n",
    "\n",
    "In this notebook, we will begin to do some NLP preprocessing as well as inputing our text data into a TFIDF vectorizer. We need do this before we can start to do some modeling, specifcally LDA Topic Modeling."
   ]
  },
  {
   "cell_type": "code",
   "execution_count": 2,
   "metadata": {},
   "outputs": [],
   "source": [
    "#Importing the holy trinity\n",
    "import numpy as np\n",
    "import pandas as pd\n",
    "import matplotlib.pyplot as plt\n",
    "\n",
    "#Importing NLP plugins\n",
    "from nltk.corpus import stopwords \n",
    "ENGLISH_STOP_WORDS = stopwords.words('english')\n",
    "from nltk.stem import PorterStemmer\n",
    "\n",
    "#Import our TfidFVectorizer plugin\n",
    "from sklearn.feature_extraction.text import TfidfVectorizer\n",
    "\n",
    "# We don't need to see the warnings :) \n",
    "import warnings\n",
    "warnings.filterwarnings('ignore')"
   ]
  },
  {
   "cell_type": "markdown",
   "metadata": {},
   "source": [
    "#### Let us create some helper function to ease our workflow"
   ]
  },
  {
   "cell_type": "code",
   "execution_count": 6,
   "metadata": {},
   "outputs": [],
   "source": [
    "def tokenizer(text):\n",
    "    '''\n",
    "    Simple tokenizer:\n",
    "    1.) Removes stopwords\n",
    "    2.) Use PorterStemmer\n",
    "    '''\n",
    "    \n",
    "    #Split each word up in text, which is a long string of words. \n",
    "    #These words are called tokens\n",
    "    \n",
    "    list_of_tokens = text.split(' ')\n",
    "    \n",
    "    #Let us use a stemmer\n",
    "    stemmer = PorterStemmer()\n",
    "    \n",
    "    #list of cleaned_tokens\n",
    "    cleaned_tokens = []\n",
    "\n",
    "    #Remove Stopwords\n",
    "    for token in list_of_tokens:\n",
    "        if (not stopword in ENGLISH_STOP_WORDS):\n",
    "            # Stemm words\n",
    "            token_stemmed = stemmer(token)\n",
    "                \n",
    "            cleaned_tokens.append(token_stemmed)\n",
    "            \n",
    "    return cleaned_tokens"
   ]
  },
  {
   "cell_type": "markdown",
   "metadata": {},
   "source": [
    "Now that we created our tokenizer function which will be fed into our TFIDF vectorizer down below, ideally I want to optimize the min_df value of our tokenizer. The **min_df** used for removing terms that appear too infrequently.\n",
    "\n",
    "For example:\n",
    "* min_df = 0.01 means \"ignore terms that appear in less than 1% of the documents\".\n",
    "* min_df = 5 means \"ignore terms that appear in less than 5 documents\"."
   ]
  },
  {
   "cell_type": "code",
   "execution_count": null,
   "metadata": {},
   "outputs": [],
   "source": [
    "min_df_range = range(100, 5000, 50)\n",
    "\n",
    "for i in min_df_range:\n",
    "    "
   ]
  }
 ],
 "metadata": {
  "kernelspec": {
   "display_name": "Python 3",
   "language": "python",
   "name": "python3"
  },
  "language_info": {
   "codemirror_mode": {
    "name": "ipython",
    "version": 3
   },
   "file_extension": ".py",
   "mimetype": "text/x-python",
   "name": "python",
   "nbconvert_exporter": "python",
   "pygments_lexer": "ipython3",
   "version": "3.7.7"
  }
 },
 "nbformat": 4,
 "nbformat_minor": 4
}
